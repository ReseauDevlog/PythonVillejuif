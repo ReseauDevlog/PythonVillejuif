{
 "cells": [
  {
   "cell_type": "markdown",
   "metadata": {},
   "source": [
    "*Ce notebook est distribué par Devlog sous licence Creative Commons - Attribution - Pas d’Utilisation Commerciale - Partage dans les Mêmes Conditions. La description complète de la license est disponible à l'adresse web http://creativecommons.org/licenses/by-nc-sa/4.0/.*"
   ]
  },
  {
   "cell_type": "markdown",
   "metadata": {},
   "source": [
    "# Initiation Python - TP 5 - numpy et matplotlib"
   ]
  },
  {
   "cell_type": "markdown",
   "metadata": {},
   "source": [
    "Maintenant que vous avez quelques connaissances sur les tableaux NumPy, nous allons modifier nos classes pour qu'elles utilisent ce package et non plus des listes."
   ]
  },
  {
   "cell_type": "markdown",
   "metadata": {},
   "source": [
    "Dans le répétoire *enonce/* vous trouverez les fonctions que vous avez développées dans la première partie, organisées sous forme des classes: Superellipse et Superellipsoide dans des fichiers correspondants. Le module *utils* contient des fonctions *spe_cos*, *spe_sin*, etc. \n",
    "\n",
    "Pour reprendre le cas de la première journée avec `supperellipse(5,1,1,2)` :\n",
    "\n",
    "* La création de la superellipse se fait en initialisant la classe avec rx, ry, m:\n",
    "\n",
    "`se = Superellipse(1,1,2)`\n",
    "\n",
    "* Les coordonées sont renvoyées avec la méthode *cloud* : \n",
    "\n",
    "`x, y = se.cloud(5)`"
   ]
  },
  {
   "cell_type": "markdown",
   "metadata": {},
   "source": [
    "#### Question 1\n",
    "\n",
    "* Modifier *spe_cos* et *spe_sin* pour qu'ils puissent prendre des tableaux en entrée. \n",
    "\n",
    "* Remplacez également votre fonction *linspace* par celle de *numpy*.\n",
    "\n",
    "\n",
    "#### Question 2\n",
    "\n",
    "* Modifier la méthode *cloud* de la classe *Superellipse* pour qu'elle fonctionne avec des tableaux. \n",
    "\n",
    "* Vérifiez que vous obtenez toujours les mêmes résultats. \n",
    "\n",
    "* Utiliez la commande magic `%timeit` de ipython pour mesurer le temps de calcul entre la version originale (avec des listes et des boucles) et la nouvelle (avec la vectorisation grâce a *numpy*).\n",
    "\n",
    "\n",
    "#### Question 2.1*\n",
    "\n",
    "Testez le résultat avec le framework PyUnit pour `supperellipse(5,1,1,2)` qui doit renvoyer les mêmes résultats que dans l'exercice de la première journée.\n",
    "\n",
    "La classe TestAssert doit contenir 3 méthodes : \n",
    "\n",
    "* *setUp(self)* qui crée une superellipse et génére ses coordonnées avec la méthode cloud()\n",
    "\n",
    "* *test_x(self)* qui vérifie l'égalité à 7 chiffres de précision que x est bien [1, 0, -1, 0, 1]\n",
    "\n",
    "* *test_y(self)* qui vérifie l'égalité à 7 chiffres de précision que y est bien [0, 1, 0, -1, 0]\n",
    "\n",
    "* Pour vérifier cette égalité utilisez la fonction *assert_almost_equal()* de *numpy.testing*\n",
    "\n",
    "\n",
    "#### Question 2.2*\n",
    "\n",
    "Modifier la méthode *cloud* de la classe *Superellipsoid* pour qu'elle fonctionne avec des tableaux. Vérifiez que vous obtenez toujours les mêmes résultats. \n",
    "\n",
    "\n",
    "#### Question 3\n",
    "\n",
    "Ecrivez des scripts Python vous permettant de représenter à l'aide de *matplolib* une superellipse et une superellipsoïde, anisi que leur rotations.\n",
    "\n",
    "Pour la dimension 3, vous utiliserez les commandes suivantes"
   ]
  },
  {
   "cell_type": "code",
   "execution_count": null,
   "metadata": {
    "collapsed": false
   },
   "outputs": [],
   "source": [
    "import matplotlib.pyplot as plt\n",
    "from mpl_toolkits.mplot3d import axes3d\n",
    "\n",
    "fig = plt.figure()\n",
    "ax = fig.add_subplot(111, projection='3d')\n",
    "ax.plot_wireframe(x, y, z, color='b') "
   ]
  },
  {
   "cell_type": "markdown",
   "metadata": {
    "collapsed": true
   },
   "source": [
    "#### Question 4\n",
    "\n",
    "En reprenant les classes Quaternion et Superellipsoide dans *ellipsoides/projet*, réalisez la chaine d'animation de la superellipsoide.\n",
    "\n",
    "* La superellipsoide est crée avec\n",
    "`c = Superellipsoid(rx, ry, rz, m1, m2)`\n",
    "\n",
    "* Le nuage des points est généré avec \n",
    "`x, y, z = c.cloud(15)`\n",
    "\n",
    "* La rotation 3D est initialisée :\n",
    "\n",
    "`q = Quaternion()` \n",
    "\n",
    "* L'angle de rotation est initialisée avec \n",
    "`q.set_angle(np.pi/10)`\n",
    "\n",
    "et mis à jour en faisant: \n",
    "\n",
    "`q.set_angle(np.pi/10, np.random.random(3))`\n",
    "\n",
    "`q.normalize() `\n",
    "\n",
    "(le 2me argument est l'axe de rotation (x,y,z) qui est aléatoire)\n",
    "\n",
    "La mise à jour des coordonées de la superellipsoide pour la rotation :\n",
    "\n",
    "`x[:], y[:], z[:] = q.rotate(np.asarray([x, y, z]))`\n",
    "\n",
    "* L'animation est faite par matplotlib en passant votre fonction animate() comme argument à  \n",
    "\n",
    "`ani = animation.FuncAnimation(fig, animate, interval=100)`\n",
    "\n",
    "**Tuyau**: Avant de commencer, réfléchissez comment doit procéder votre fonction *animate()* pour mettre à jour les coordonnés de la superellipsoide\n",
    "\n"
   ]
  },
  {
   "cell_type": "markdown",
   "metadata": {
    "collapsed": false
   },
   "source": [
    "*Auteurs : Loic Gouarin, David Chamont, Dmitry Khvorostyanov. Document réalisé en 2016 dans le cadre d'une série de formations Python organisées par les réseaux LoOPS et PiCo en collaboration avec le pôle formation du SMUT CNRS.*"
   ]
  },
  {
   "cell_type": "code",
   "execution_count": null,
   "metadata": {
    "collapsed": false
   },
   "outputs": [],
   "source": [
    "# execute this part to modify the css style\n",
    "from IPython.core.display import HTML\n",
    "def css_styling():\n",
    "    styles = open(\"../../../styles/custom.css\", \"r\").read()\n",
    "    return HTML(styles)\n",
    "css_styling()"
   ]
  }
 ],
 "metadata": {
  "kernelspec": {
   "display_name": "Python 3",
   "language": "python",
   "name": "python3"
  },
  "language_info": {
   "codemirror_mode": {
    "name": "ipython",
    "version": 3
   },
   "file_extension": ".py",
   "mimetype": "text/x-python",
   "name": "python",
   "nbconvert_exporter": "python",
   "pygments_lexer": "ipython3",
   "version": "3.5.1"
  }
 },
 "nbformat": 4,
 "nbformat_minor": 0
}
