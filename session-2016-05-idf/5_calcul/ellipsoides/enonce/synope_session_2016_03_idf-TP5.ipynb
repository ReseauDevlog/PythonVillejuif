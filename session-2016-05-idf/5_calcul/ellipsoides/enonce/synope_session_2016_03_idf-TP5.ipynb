{
 "cells": [
  {
   "cell_type": "markdown",
   "metadata": {},
   "source": [
    "*Ce notebook est distribué par Devlog sous licence Creative Commons - Attribution - Pas d’Utilisation Commerciale - Partage dans les Mêmes Conditions. La description complète de la license est disponible à l'adresse web http://creativecommons.org/licenses/by-nc-sa/4.0/.*"
   ]
  },
  {
   "cell_type": "markdown",
   "metadata": {},
   "source": [
    "# Initiation Python - TP 5 - numpy et matplotlib"
   ]
  },
  {
   "cell_type": "markdown",
   "metadata": {},
   "source": [
    "Maintenant que vous avez quelques connaissances sur les tableaux NumPy, nous allons modifier nos classes pour qu'elles utilisent ce package et non plus des listes."
   ]
  },
  {
   "cell_type": "markdown",
   "metadata": {},
   "source": [
    "Dans le répétoire *enonce/* vous trouverez les fonctions que vous avez développées dans la première partie, organisées sous forme des classes: Superellipse et Superellipsoide dans des fichiers correspondants. Le module *utils* contient des fonctions *spe_cos*, *spe_sin*, etc. \n",
    "\n",
    "Pour reprendre le cas de la première journée avec `supperellipse(5,1,1,2)` :\n",
    "\n",
    "* La création de la superellipse se fait en initialisant la classe avec rx, ry, m:\n",
    "\n",
    "`se = Superellipse(1,1,2)`\n",
    "\n",
    "* Les coordonées sont renvoyées avec la méthode *cloud* : \n",
    "\n",
    "`x, y = se.cloud(5)`"
   ]
  },
  {
   "cell_type": "markdown",
   "metadata": {},
   "source": [
    "#### Question 1\n",
    "\n",
    "* Modifier *spe_cos* et *spe_sin* pour qu'ils puissent prendre des tableaux en entrée. \n",
    "\n",
    "* Remplacez également votre fonction *linspace* par celle de *numpy*.\n",
    "\n",
    "\n",
    "#### Question 2\n",
    "\n",
    "Modifier la méthode *cloud* de la classe *Superellipse* pour qu'elle fonctionne avec des tableaux. Vérifiez que vous obtenez toujours les mêmes résultats. \n",
    "\n",
    "\n",
    "#### Question 2.1*\n",
    "\n",
    "Testez le résultat avec le framework PyUnit pour `supperellipse(5,1,1,2)` qui doit renvoyer les mêmes résultats que dans l'exercice de la première journée.\n",
    "\n",
    "La classe TestAssert doit contenir 3 méthodes : \n",
    "\n",
    "* *setUp(self)* qui crée une superellipse et génére ses coordonnées avec la méthode cloud()\n",
    "\n",
    "* *test_x(self)* qui vérifie l'égalité à 7 chiffres de précision que x est bien [1, 0, -1, 0, 1]\n",
    "\n",
    "* *test_y(self)* qui vérifie l'égalité à 7 chiffres de précision que y est bien [0, 1, 0, -1, 0]\n",
    "\n",
    "* Pour vérifier cette égalité utilisez la fonction *assert_almost_equal()* de *numpy.testing*\n",
    "\n",
    "\n",
    "#### Question 2.2*\n",
    "\n",
    "Modifier la méthode *cloud* de la classe *Superellipsoid* pour qu'elle fonctionne avec des tableaux. Vérifiez que vous obtenez toujours les mêmes résultats. \n",
    "\n",
    "\n",
    "#### Question 3\n",
    "\n",
    "Ecrivez des scripts Python vous permettant de représenter à l'aide de *matplolib* une superellipse et une superellipsoïde, anisi que leur rotations.\n",
    "\n",
    "Pour la dimension 3, vous utiliserez les commandes suivantes"
   ]
  },
  {
   "cell_type": "code",
   "execution_count": null,
   "metadata": {
    "collapsed": true
   },
   "outputs": [],
   "source": [
    "import matplotlib.pyplot as plt\n",
    "from mpl_toolkits.mplot3d import axes3d\n",
    "\n",
    "fig = plt.figure()\n",
    "ax = fig.add_subplot(111, projection='3d')"
   ]
  },
  {
   "cell_type": "markdown",
   "metadata": {
    "collapsed": false
   },
   "source": [
    "*Auteurs : Loic Gouarin, David Chamont, Dmitry Khvorostyanov. Document réalisé en 2016 dans le cadre d'une série de formations Python organisées par les réseaux LoOPS et PiCo en collaboration avec le pôle formation du SMUT CNRS.*"
   ]
  },
  {
   "cell_type": "code",
   "execution_count": 1,
   "metadata": {
    "collapsed": false
   },
   "outputs": [
    {
     "data": {
      "text/html": [
       "<link href='http://fonts.googleapis.com/css?family=Oswald' rel='stylesheet' type='text/css'>\n",
       "<link href='http://fonts.googleapis.com/css?family=Lora:400,400italic' rel='stylesheet' type='text/css'>\n",
       "<link href='http://fonts.googleapis.com/css?family=Open+Sans:300' rel='stylesheet' type='text/css'>\n",
       "<link href='http://fonts.googleapis.com/css?family=Alegreya+Sans:100,300,400,500,700,800,900,100italic,300italic,400italic,500italic,700italic,800italic,900italic' rel='stylesheet' type='text/css'>\n",
       "\n",
       "<style>\n",
       "\n",
       "h1, h2, h3, h4, h5 {\n",
       "    font-family: 'Alegreya Sans', sans-serif;\n",
       "}\n",
       "\n",
       "div.text_cell_render{\n",
       "    font-family: 'Alegreya Sans',Computer Modern, \"Helvetica Neue\", Arial, Helvetica, Geneva, sans-serif;\n",
       "    line-height: 135%;\n",
       "    font-size: 120%;\n",
       "    width:100%;/*600px;*/\n",
       "    /*margin-left:auto;*/\n",
       "    /*margin-right:auto;*/\n",
       "}\n",
       "/*div.text_cell_render{font-family: \"Open Sans\", sans-serif;font-weight: normal; line-height:normal;}*/\n",
       "\n",
       "/* header colours and fonts */\n",
       ".rendered_html h1 {\n",
       "    color:#9A3334;\n",
       "    /*margin-top: 0.5em;*/\n",
       "    padding: 1em;\n",
       "    display: block;\n",
       "    font-size: 40px;\n",
       "    text-align: center;\n",
       "    border-top: 2px solid #9A3334;\n",
       "    border-bottom: 2px solid #9A3334;\n",
       "}\n",
       "\n",
       "/*.rendered_html h1 { color: #9A3334; font-family: Lora, sans-serif; font-weight: normal; text-align: center; }*/\n",
       ".rendered_html h2 {\n",
       "    color: #9A3334;\n",
       "    /*font-family: Lora, sans-serif;*/\n",
       "    font-style: italic;\n",
       "    font-weight: normal;\n",
       "    font-size: 30px;\n",
       "    /*text-align: center;*/\n",
       "    border-bottom: 1px solid #9A3334;\n",
       "}\n",
       ".rendered_html h3 {\n",
       "    color: #9A3334;\n",
       "    /*font-family: Lora, sans-serif;*/\n",
       "    font-weight: normal;\n",
       "    font-size: 25px;\n",
       "    font-style: italic;\n",
       "}\n",
       "\n",
       ".rendered_html h4 {\n",
       "    border: 2px solid #9A3334;\n",
       "    border-radius: 25px;\n",
       "    font-style: italic;\n",
       "    height:5%;\n",
       "    width:15%;\n",
       "    padding:5px;\n",
       "    text-align: center;\n",
       "}\n",
       "\n",
       "div.prompt {\n",
       "    display: None;\n",
       "}\n",
       "\n",
       "/* center the images */\n",
       ".ui-wrapper {\n",
       "    margin-left: auto !important;\n",
       "    margin-right: auto !important;\n",
       "}\n",
       "\n",
       "/* center the images */\n",
       ".video {\n",
       "    margin-left: auto !important;\n",
       "    margin-right: auto !important;\n",
       "}\n",
       "\n",
       ".rendered_html img {\n",
       "    margin-top: 0em;\n",
       "}\n",
       "\n",
       "div.input_area {\n",
       "    border-radius: 10px;\n",
       "}\n",
       "\n",
       "/*.reveal h1 {\n",
       "    text-shadow: 10px 10px 10px rgba(0, 0, 0, 0.5);\n",
       "}*/\n",
       "</style>"
      ],
      "text/plain": [
       "<IPython.core.display.HTML object>"
      ]
     },
     "execution_count": 1,
     "metadata": {},
     "output_type": "execute_result"
    }
   ],
   "source": [
    "# execute this part to modify the css style\n",
    "from IPython.core.display import HTML\n",
    "def css_styling():\n",
    "    styles = open(\"../../../styles/custom.css\", \"r\").read()\n",
    "    return HTML(styles)\n",
    "css_styling()"
   ]
  }
 ],
 "metadata": {
  "kernelspec": {
   "display_name": "Python 3",
   "language": "python",
   "name": "python3"
  },
  "language_info": {
   "codemirror_mode": {
    "name": "ipython",
    "version": 3
   },
   "file_extension": ".py",
   "mimetype": "text/x-python",
   "name": "python",
   "nbconvert_exporter": "python",
   "pygments_lexer": "ipython3",
   "version": "3.5.1"
  }
 },
 "nbformat": 4,
 "nbformat_minor": 0
}
